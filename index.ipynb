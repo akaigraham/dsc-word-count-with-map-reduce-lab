{
  "nbformat": 4,
  "nbformat_minor": 0,
  "metadata": {
    "kernelspec": {
      "display_name": "Python 3",
      "language": "python",
      "name": "python3"
    },
    "language_info": {
      "codemirror_mode": {
        "name": "ipython",
        "version": 3
      },
      "file_extension": ".py",
      "mimetype": "text/x-python",
      "name": "python",
      "nbconvert_exporter": "python",
      "pygments_lexer": "ipython3",
      "version": "3.7.3"
    },
    "colab": {
      "name": "index.ipynb",
      "provenance": []
    }
  },
  "cells": [
    {
      "cell_type": "markdown",
      "metadata": {
        "id": "6To4RI_vkj4w"
      },
      "source": [
        "# Word Count with MapReduce - Lab\n",
        "\n",
        "## Introduction\n",
        "\n",
        "Now that we have seen the key map and reduce operators in Spark, and also know when to use transformation and action operators, we can revisit the word count problem we introduced earlier in the section. In this lab, we will read a text corpus into the Spark environment, perform a word count, and try basic NLP ideas to get a good grip on how MapReduce performs. \n",
        "\n",
        "## Objectives\n",
        "\n",
        "In this lab you will:\n",
        "\n",
        "- Apply the map(func) transformation to a given function on all elements of an RDD in different partitions \n",
        "- Apply a map transformation for all elements of an RDD \n",
        "- Compare the difference between a transformation and an action within RDDs \n",
        "- Use collect(), count(), and take() actions to trigger spark transformations \n",
        "- Use filter to select data that meets certain specifications within an RDD \n",
        "- Use Spark and the MapReduce framework to complete a full parallelized word count problem \n",
        "\n",
        "## MapReduce task\n",
        "\n",
        "Here is what our problem looks like:\n",
        "\n",
        "* We have a huge text document\n",
        "* We need to count the number of times each distinct word appears in the document\n",
        "\n",
        "\n",
        "* Sample applications:\n",
        "\n",
        "    * Analyze web server logs to find popular URLs\n",
        "    * Analyze texts for content or style "
      ]
    },
    {
      "cell_type": "markdown",
      "metadata": {
        "id": "BBGb2gDnkj4x"
      },
      "source": [
        "## Word Count\n",
        "\n",
        "We will illustrate a MapReduce computation for counting the number of occurrences for each word in a text corpus. In this example, the input file is a repository of documents and each document is an element. We shall count the frequency of stop words for __style identification__ as stop words might have unique features which can potentially describe the author's writing style based on their use of stop words while writing. We shall look at some texts by Shakespeare and Jane Austin following this motivation. \n",
        "\n",
        "MapReduce in PySpark provides a practical and efficient way of achieving this goal as it: \n",
        "\n",
        "* works if the file is too large for memory\n",
        "\n",
        "* works even if the output is too large for memory\n",
        "\n",
        "* is naturally parallelizable\n"
      ]
    },
    {
      "cell_type": "markdown",
      "metadata": {
        "id": "3XbpDQk3kj4y"
      },
      "source": [
        "### MapReduce Framework\n",
        "\n",
        "Here are the steps that we will perform for our problem, under the MapReduce framework:  \n",
        "\n",
        "* Sequentially read a lot of data (text files in this case)\n",
        "\n",
        "\n",
        "* Map:\n",
        "    * Extract something you care about\n",
        "\n",
        "\n",
        "* Group by key: Sort and shuffle\n",
        "\n",
        "\n",
        "* Reduce:\n",
        "    * Aggregate, summarize, filter or transform\n",
        "\n",
        "\n",
        "* Write the result \n",
        "\n",
        "As a reminder, here is what it looks like visually, given the example we used before:\n",
        "![](https://github.com/akaigraham/dsc-word-count-with-map-reduce-lab/blob/master/images/word_count.png?raw=1)"
      ]
    },
    {
      "cell_type": "markdown",
      "metadata": {
        "id": "JOhfQioHkj4y"
      },
      "source": [
        "### Initialize SparkContext()\n",
        "\n",
        "- First, import the `pyspark` module into this Python environment and initialize a `SparkContext()` \n",
        "- Initialize a local spark context"
      ]
    },
    {
      "cell_type": "code",
      "metadata": {
        "id": "sbTsq1_vknqv",
        "outputId": "740ecf02-4e85-4f5a-8881-810c0604c563",
        "colab": {
          "base_uri": "https://localhost:8080/"
        }
      },
      "source": [
        "!apt update"
      ],
      "execution_count": 1,
      "outputs": [
        {
          "output_type": "stream",
          "name": "stdout",
          "text": [
            "Hit:1 https://cloud.r-project.org/bin/linux/ubuntu bionic-cran40/ InRelease\n",
            "Ign:2 https://developer.download.nvidia.com/compute/cuda/repos/ubuntu1804/x86_64  InRelease\n",
            "Hit:3 http://security.ubuntu.com/ubuntu bionic-security InRelease\n",
            "Ign:4 https://developer.download.nvidia.com/compute/machine-learning/repos/ubuntu1804/x86_64  InRelease\n",
            "Hit:5 https://developer.download.nvidia.com/compute/cuda/repos/ubuntu1804/x86_64  Release\n",
            "Hit:6 https://developer.download.nvidia.com/compute/machine-learning/repos/ubuntu1804/x86_64  Release\n",
            "Hit:7 http://ppa.launchpad.net/c2d4u.team/c2d4u4.0+/ubuntu bionic InRelease\n",
            "Hit:8 http://archive.ubuntu.com/ubuntu bionic InRelease\n",
            "Hit:10 http://ppa.launchpad.net/cran/libgit2/ubuntu bionic InRelease\n",
            "Hit:11 http://archive.ubuntu.com/ubuntu bionic-updates InRelease\n",
            "Hit:13 http://archive.ubuntu.com/ubuntu bionic-backports InRelease\n",
            "Hit:14 http://ppa.launchpad.net/deadsnakes/ppa/ubuntu bionic InRelease\n",
            "Hit:15 http://ppa.launchpad.net/graphics-drivers/ppa/ubuntu bionic InRelease\n",
            "Reading package lists... Done\n",
            "Building dependency tree       \n",
            "Reading state information... Done\n",
            "37 packages can be upgraded. Run 'apt list --upgradable' to see them.\n"
          ]
        }
      ]
    },
    {
      "cell_type": "code",
      "metadata": {
        "id": "99pd6dNnkyoX"
      },
      "source": [
        "!apt-get install openjdk-8-jdk-headless -qq > /dev/null\n",
        "!wget -q https://downloads.apache.org/spark/spark-2.4.8/spark-2.4.8-bin-hadoop2.7.tgz\n",
        "!tar xf spark-2.4.8-bin-hadoop2.7.tgz\n",
        "!pip install -q findspark"
      ],
      "execution_count": 2,
      "outputs": []
    },
    {
      "cell_type": "code",
      "metadata": {
        "id": "hvxqjTjbk_jj"
      },
      "source": [
        "import os\n",
        "os.environ[\"JAVA_HOME\"] = \"/usr/lib/jvm/java-1.8.0-openjdk-amd64\"\n",
        "os.environ[\"SPARK_HOME\"] = \"/content/spark-2.4.8-bin-hadoop2.7\""
      ],
      "execution_count": 3,
      "outputs": []
    },
    {
      "cell_type": "code",
      "metadata": {
        "id": "_E5pqktmlEru"
      },
      "source": [
        "import findspark\n",
        "findspark.init()"
      ],
      "execution_count": 4,
      "outputs": []
    },
    {
      "cell_type": "code",
      "metadata": {
        "id": "RhWLlU9Dkj4y"
      },
      "source": [
        "# Start a local SparkContext\n",
        "import pyspark\n",
        "sc = pyspark.SparkContext('local[*]')"
      ],
      "execution_count": 5,
      "outputs": []
    },
    {
      "cell_type": "markdown",
      "metadata": {
        "id": "z7MjIIsckj4z"
      },
      "source": [
        "To test our code, start with a single text file, `'hamlet.txt'`. First, set a file path variable `file` to the location of `'text/hamlet.txt'`. "
      ]
    },
    {
      "cell_type": "code",
      "metadata": {
        "id": "rV0MluEPkj4z"
      },
      "source": [
        "# Set a path variable for data \n",
        "file = 'text/hamlet.txt'"
      ],
      "execution_count": 6,
      "outputs": []
    },
    {
      "cell_type": "markdown",
      "metadata": {
        "id": "LIGnKZiykj4z"
      },
      "source": [
        "## Read and Split text file contents into RDD - `sc.textFile()`\n",
        "\n",
        "Previously we used parallelization to read an RDD from a Python list. Here we shall read the text file into Spark RDDs by using `sc.textFile()` method for loading the text file into the `lines` RDD. The documentation on RDDs can be found [here!!](https://spark.apache.org/docs/latest/rdd-programming-guide.html)\n",
        "\n",
        "The `textFile(path)` method reads a text file from the HDFS/local file system/any Hadoop supported file system, into the number of partitions specified and returns it as an RDD of strings. In order to view the contents of the RDD, we will use the `RDD.collect()` method since calling the RDD by name will not return the contents, only the object type and relevant information. "
      ]
    },
    {
      "cell_type": "code",
      "metadata": {
        "id": "w08l5ybOkj40",
        "outputId": "86275377-5e5b-4fec-c246-d0b17abfcbd4",
        "colab": {
          "base_uri": "https://localhost:8080/"
        }
      },
      "source": [
        "# Read the text file into an RDD using sc.textFile()\n",
        "lines = sc.textFile(file)\n",
        "lines"
      ],
      "execution_count": 7,
      "outputs": [
        {
          "output_type": "execute_result",
          "data": {
            "text/plain": [
              "https://github.com/akaigraham/dsc-word-count-with-map-reduce-lab/tree/master/text/hamlet.txt MapPartitionsRDD[1] at textFile at NativeMethodAccessorImpl.java:0"
            ]
          },
          "metadata": {},
          "execution_count": 7
        }
      ]
    },
    {
      "cell_type": "markdown",
      "metadata": {
        "id": "L8OQxZaZkj40"
      },
      "source": [
        "The text file has been written in a \"line-by-line\" manner into the RDD. We can access any given entry using simple indexing. \n",
        "\n",
        "- Print a few sample lines from the `lines` RDD"
      ]
    },
    {
      "cell_type": "code",
      "metadata": {
        "id": "uzEWSEYxkj40",
        "outputId": "bd85d8c2-251d-450c-ffb8-4fe08afd0cc6",
        "colab": {
          "base_uri": "https://localhost:8080/",
          "height": 1000
        }
      },
      "source": [
        "# Code here \n",
        "print(lines.collect()[500])"
      ],
      "execution_count": 8,
      "outputs": [
        {
          "output_type": "error",
          "ename": "Py4JJavaError",
          "evalue": "ignored",
          "traceback": [
            "\u001b[0;31m---------------------------------------------------------------------------\u001b[0m",
            "\u001b[0;31mPy4JJavaError\u001b[0m                             Traceback (most recent call last)",
            "\u001b[0;32m<ipython-input-8-1cbe9aa4811f>\u001b[0m in \u001b[0;36m<module>\u001b[0;34m()\u001b[0m\n\u001b[1;32m      1\u001b[0m \u001b[0;31m# Code here\u001b[0m\u001b[0;34m\u001b[0m\u001b[0;34m\u001b[0m\u001b[0;34m\u001b[0m\u001b[0m\n\u001b[0;32m----> 2\u001b[0;31m \u001b[0mprint\u001b[0m\u001b[0;34m(\u001b[0m\u001b[0mlines\u001b[0m\u001b[0;34m.\u001b[0m\u001b[0mcollect\u001b[0m\u001b[0;34m(\u001b[0m\u001b[0;34m)\u001b[0m\u001b[0;34m[\u001b[0m\u001b[0;36m500\u001b[0m\u001b[0;34m]\u001b[0m\u001b[0;34m)\u001b[0m\u001b[0;34m\u001b[0m\u001b[0;34m\u001b[0m\u001b[0m\n\u001b[0m",
            "\u001b[0;32m/content/spark-2.4.8-bin-hadoop2.7/python/pyspark/rdd.py\u001b[0m in \u001b[0;36mcollect\u001b[0;34m(self)\u001b[0m\n\u001b[1;32m    814\u001b[0m         \"\"\"\n\u001b[1;32m    815\u001b[0m         \u001b[0;32mwith\u001b[0m \u001b[0mSCCallSiteSync\u001b[0m\u001b[0;34m(\u001b[0m\u001b[0mself\u001b[0m\u001b[0;34m.\u001b[0m\u001b[0mcontext\u001b[0m\u001b[0;34m)\u001b[0m \u001b[0;32mas\u001b[0m \u001b[0mcss\u001b[0m\u001b[0;34m:\u001b[0m\u001b[0;34m\u001b[0m\u001b[0;34m\u001b[0m\u001b[0m\n\u001b[0;32m--> 816\u001b[0;31m             \u001b[0msock_info\u001b[0m \u001b[0;34m=\u001b[0m \u001b[0mself\u001b[0m\u001b[0;34m.\u001b[0m\u001b[0mctx\u001b[0m\u001b[0;34m.\u001b[0m\u001b[0m_jvm\u001b[0m\u001b[0;34m.\u001b[0m\u001b[0mPythonRDD\u001b[0m\u001b[0;34m.\u001b[0m\u001b[0mcollectAndServe\u001b[0m\u001b[0;34m(\u001b[0m\u001b[0mself\u001b[0m\u001b[0;34m.\u001b[0m\u001b[0m_jrdd\u001b[0m\u001b[0;34m.\u001b[0m\u001b[0mrdd\u001b[0m\u001b[0;34m(\u001b[0m\u001b[0;34m)\u001b[0m\u001b[0;34m)\u001b[0m\u001b[0;34m\u001b[0m\u001b[0;34m\u001b[0m\u001b[0m\n\u001b[0m\u001b[1;32m    817\u001b[0m         \u001b[0;32mreturn\u001b[0m \u001b[0mlist\u001b[0m\u001b[0;34m(\u001b[0m\u001b[0m_load_from_socket\u001b[0m\u001b[0;34m(\u001b[0m\u001b[0msock_info\u001b[0m\u001b[0;34m,\u001b[0m \u001b[0mself\u001b[0m\u001b[0;34m.\u001b[0m\u001b[0m_jrdd_deserializer\u001b[0m\u001b[0;34m)\u001b[0m\u001b[0;34m)\u001b[0m\u001b[0;34m\u001b[0m\u001b[0;34m\u001b[0m\u001b[0m\n\u001b[1;32m    818\u001b[0m \u001b[0;34m\u001b[0m\u001b[0m\n",
            "\u001b[0;32m/content/spark-2.4.8-bin-hadoop2.7/python/lib/py4j-0.10.7-src.zip/py4j/java_gateway.py\u001b[0m in \u001b[0;36m__call__\u001b[0;34m(self, *args)\u001b[0m\n\u001b[1;32m   1255\u001b[0m         \u001b[0manswer\u001b[0m \u001b[0;34m=\u001b[0m \u001b[0mself\u001b[0m\u001b[0;34m.\u001b[0m\u001b[0mgateway_client\u001b[0m\u001b[0;34m.\u001b[0m\u001b[0msend_command\u001b[0m\u001b[0;34m(\u001b[0m\u001b[0mcommand\u001b[0m\u001b[0;34m)\u001b[0m\u001b[0;34m\u001b[0m\u001b[0;34m\u001b[0m\u001b[0m\n\u001b[1;32m   1256\u001b[0m         return_value = get_return_value(\n\u001b[0;32m-> 1257\u001b[0;31m             answer, self.gateway_client, self.target_id, self.name)\n\u001b[0m\u001b[1;32m   1258\u001b[0m \u001b[0;34m\u001b[0m\u001b[0m\n\u001b[1;32m   1259\u001b[0m         \u001b[0;32mfor\u001b[0m \u001b[0mtemp_arg\u001b[0m \u001b[0;32min\u001b[0m \u001b[0mtemp_args\u001b[0m\u001b[0;34m:\u001b[0m\u001b[0;34m\u001b[0m\u001b[0;34m\u001b[0m\u001b[0m\n",
            "\u001b[0;32m/content/spark-2.4.8-bin-hadoop2.7/python/lib/py4j-0.10.7-src.zip/py4j/protocol.py\u001b[0m in \u001b[0;36mget_return_value\u001b[0;34m(answer, gateway_client, target_id, name)\u001b[0m\n\u001b[1;32m    326\u001b[0m                 raise Py4JJavaError(\n\u001b[1;32m    327\u001b[0m                     \u001b[0;34m\"An error occurred while calling {0}{1}{2}.\\n\"\u001b[0m\u001b[0;34m.\u001b[0m\u001b[0;34m\u001b[0m\u001b[0;34m\u001b[0m\u001b[0m\n\u001b[0;32m--> 328\u001b[0;31m                     format(target_id, \".\", name), value)\n\u001b[0m\u001b[1;32m    329\u001b[0m             \u001b[0;32melse\u001b[0m\u001b[0;34m:\u001b[0m\u001b[0;34m\u001b[0m\u001b[0;34m\u001b[0m\u001b[0m\n\u001b[1;32m    330\u001b[0m                 raise Py4JError(\n",
            "\u001b[0;31mPy4JJavaError\u001b[0m: An error occurred while calling z:org.apache.spark.api.python.PythonRDD.collectAndServe.\n: java.io.IOException: No FileSystem for scheme: https\n\tat org.apache.hadoop.fs.FileSystem.getFileSystemClass(FileSystem.java:2660)\n\tat org.apache.hadoop.fs.FileSystem.createFileSystem(FileSystem.java:2667)\n\tat org.apache.hadoop.fs.FileSystem.access$200(FileSystem.java:94)\n\tat org.apache.hadoop.fs.FileSystem$Cache.getInternal(FileSystem.java:2703)\n\tat org.apache.hadoop.fs.FileSystem$Cache.get(FileSystem.java:2685)\n\tat org.apache.hadoop.fs.FileSystem.get(FileSystem.java:373)\n\tat org.apache.hadoop.fs.Path.getFileSystem(Path.java:295)\n\tat org.apache.hadoop.mapred.FileInputFormat.singleThreadedListStatus(FileInputFormat.java:258)\n\tat org.apache.hadoop.mapred.FileInputFormat.listStatus(FileInputFormat.java:229)\n\tat org.apache.hadoop.mapred.FileInputFormat.getSplits(FileInputFormat.java:315)\n\tat org.apache.spark.rdd.HadoopRDD.getPartitions(HadoopRDD.scala:204)\n\tat org.apache.spark.rdd.RDD$$anonfun$partitions$2.apply(RDD.scala:273)\n\tat org.apache.spark.rdd.RDD$$anonfun$partitions$2.apply(RDD.scala:269)\n\tat scala.Option.getOrElse(Option.scala:121)\n\tat org.apache.spark.rdd.RDD.partitions(RDD.scala:269)\n\tat org.apache.spark.rdd.MapPartitionsRDD.getPartitions(MapPartitionsRDD.scala:49)\n\tat org.apache.spark.rdd.RDD$$anonfun$partitions$2.apply(RDD.scala:273)\n\tat org.apache.spark.rdd.RDD$$anonfun$partitions$2.apply(RDD.scala:269)\n\tat scala.Option.getOrElse(Option.scala:121)\n\tat org.apache.spark.rdd.RDD.partitions(RDD.scala:269)\n\tat org.apache.spark.SparkContext.runJob(SparkContext.scala:2132)\n\tat org.apache.spark.rdd.RDD$$anonfun$collect$1.apply(RDD.scala:990)\n\tat org.apache.spark.rdd.RDDOperationScope$.withScope(RDDOperationScope.scala:151)\n\tat org.apache.spark.rdd.RDDOperationScope$.withScope(RDDOperationScope.scala:112)\n\tat org.apache.spark.rdd.RDD.withScope(RDD.scala:385)\n\tat org.apache.spark.rdd.RDD.collect(RDD.scala:989)\n\tat org.apache.spark.api.python.PythonRDD$.collectAndServe(PythonRDD.scala:166)\n\tat org.apache.spark.api.python.PythonRDD.collectAndServe(PythonRDD.scala)\n\tat sun.reflect.NativeMethodAccessorImpl.invoke0(Native Method)\n\tat sun.reflect.NativeMethodAccessorImpl.invoke(NativeMethodAccessorImpl.java:62)\n\tat sun.reflect.DelegatingMethodAccessorImpl.invoke(DelegatingMethodAccessorImpl.java:43)\n\tat java.lang.reflect.Method.invoke(Method.java:498)\n\tat py4j.reflection.MethodInvoker.invoke(MethodInvoker.java:244)\n\tat py4j.reflection.ReflectionEngine.invoke(ReflectionEngine.java:357)\n\tat py4j.Gateway.invoke(Gateway.java:282)\n\tat py4j.commands.AbstractCommand.invokeMethod(AbstractCommand.java:132)\n\tat py4j.commands.CallCommand.execute(CallCommand.java:79)\n\tat py4j.GatewayConnection.run(GatewayConnection.java:238)\n\tat java.lang.Thread.run(Thread.java:748)\n"
          ]
        }
      ]
    },
    {
      "cell_type": "markdown",
      "metadata": {
        "id": "_s-dQk5kkj41"
      },
      "source": [
        "Similarly, we can also print the whole document, lines by line. \n",
        "\n",
        "- Print complete Hamlet from the lines RDD"
      ]
    },
    {
      "cell_type": "code",
      "metadata": {
        "scrolled": true,
        "id": "0jFbn1jukj41"
      },
      "source": [
        "# Print the text, line-by-line\n",
        "# This will output the whole of hamlet text, one line at a time. \n"
      ],
      "execution_count": null,
      "outputs": []
    },
    {
      "cell_type": "markdown",
      "metadata": {
        "id": "4HNbTZHikj42"
      },
      "source": [
        "Great, now that the complete text file is in a `lines` RDD, we can easily use the map function to break it down further into individual words and parallelize it accordingly. \n",
        "\n",
        "__Note: Parallelization is handled by the Spark environment according to available infrastructure and doesn't need any further configuration__.\n",
        "\n",
        "## The MAP function `map(func)`\n",
        "\n",
        "The Map function for this example uses keys that are of type string (the words) and values that are integers. The Map task reads a document and breaks it into its sequence of words `w1, w2, . . . , wn`. It then makes a sequence of key-value pairs for each word where the word itself is the key and the value is always 1. That is, the output of the Map task for this document is the sequence of key-value pairs as shown below:\n",
        "\n",
        "> `(w1, 1), (w2, 1), . . . ,(wn, 1)`\n",
        "\n",
        "This step performs the following two sub-steps:\n",
        "\n",
        "* A splitting step that takes the input dataset from the source and divides it into smaller subsets \n",
        "* A mapping step that takes those smaller subsets and performs an action or computation on each subset \n",
        "\n",
        "\n",
        "### Spark Mapping functions\n",
        "\n",
        "Previously, we saw that:\n",
        "\n",
        "- `map(func)` returns a new distributed dataset formed by passing each element of the source through a function `func`.\n",
        "\n",
        "- `flatMap(func)` maps each input item to 0 or more output items (so `func` should return a seq rather than a single item).\n",
        "\n",
        "`flatMap()` breaks the output of a lambda function into individual RDD elements (as opposed to map).\n",
        "\n",
        "---\n",
        "\n",
        "* Use `RDD.flatMap()` to split the lines by whitespace and collect into one flat RDD.\n",
        "\n",
        "* The transformation is defined in the lambda expression, where the input `x` is defined as producing the result of `x.split(' ')`.\n",
        "\n",
        "* Use the `RDD.take(n)` method to pick `n` words from the top of the sequence. \n",
        "\n",
        "* Use `flatMap()` to break the output of the lambda function into individual RDD elements. \n"
      ]
    },
    {
      "cell_type": "code",
      "metadata": {
        "id": "9VZMpSy7kj42",
        "outputId": "c14439d8-562d-4f37-f0a2-b6a373c06b8e"
      },
      "source": [
        "# split the lines into words based on blanks ' ' and show ten elements from the top \n",
        "\n",
        "\n",
        "# Code here \n",
        "\n",
        "\n",
        "# ['', '1604', '', '', 'THE', 'TRAGEDY', 'OF', 'HAMLET,', 'PRINCE', 'OF']"
      ],
      "execution_count": null,
      "outputs": [
        {
          "data": {
            "text/plain": [
              "['', '1604', '', '', 'THE', 'TRAGEDY', 'OF', 'HAMLET,', 'PRINCE', 'OF']"
            ]
          },
          "execution_count": 9,
          "metadata": {},
          "output_type": "execute_result"
        }
      ]
    },
    {
      "cell_type": "markdown",
      "metadata": {
        "id": "s9jzHPOekj42"
      },
      "source": [
        "\n",
        "### Create a Tuple as (k,v)\n",
        "\n",
        "- Map each word to a tuple of (word, 1).\n",
        "\n",
        "Map doesn't break up the output of the lambda expression, meaning that the tuples stay intact."
      ]
    },
    {
      "cell_type": "code",
      "metadata": {
        "id": "TD0AOdDnkj43",
        "outputId": "011abb1c-3c87-40c7-9dc2-c59de4c4ee4c"
      },
      "source": [
        "# Use a lambda function with map to add a 1 to each word and output a tuple\n",
        "# (word, 1) - Take ten elements\n",
        "\n",
        "\n",
        "# Code here "
      ],
      "execution_count": null,
      "outputs": [
        {
          "data": {
            "text/plain": [
              "[('', 1),\n",
              " ('1604', 1),\n",
              " ('', 1),\n",
              " ('', 1),\n",
              " ('THE', 1),\n",
              " ('TRAGEDY', 1),\n",
              " ('OF', 1),\n",
              " ('HAMLET,', 1),\n",
              " ('PRINCE', 1),\n",
              " ('OF', 1)]"
            ]
          },
          "execution_count": 11,
          "metadata": {},
          "output_type": "execute_result"
        }
      ]
    },
    {
      "cell_type": "markdown",
      "metadata": {
        "id": "sSQoZabTkj43"
      },
      "source": [
        "### Change the words to lower case to ensure integrity\n",
        "\n",
        "As we can see from the output above, the text contains words in capital as well as lower case. By default, 'THE' and 'the' would be considered two separate words due to case sensitivity. \n",
        "\n",
        "- Modify the map function above to change all the words to lowercase using a `.lower()` inside the lambda function.\n"
      ]
    },
    {
      "cell_type": "code",
      "metadata": {
        "id": "76OPCgbvkj43",
        "outputId": "b0b47cb4-818e-4ac6-fb24-cf63aac75132"
      },
      "source": [
        "# Change the words in words tuples to lowercase - take 10 elements \n",
        "\n",
        "\n",
        "# Code here "
      ],
      "execution_count": null,
      "outputs": [
        {
          "data": {
            "text/plain": [
              "[('', 1),\n",
              " ('1604', 1),\n",
              " ('', 1),\n",
              " ('', 1),\n",
              " ('the', 1),\n",
              " ('tragedy', 1),\n",
              " ('of', 1),\n",
              " ('hamlet,', 1),\n",
              " ('prince', 1),\n",
              " ('of', 1)]"
            ]
          },
          "execution_count": 13,
          "metadata": {},
          "output_type": "execute_result"
        }
      ]
    },
    {
      "cell_type": "markdown",
      "metadata": {
        "id": "fIjzFZgdkj43"
      },
      "source": [
        "## REDUCE Function\n",
        "The Reduce function’s argument is a pair consisting of a key and its list of associated values as the pairs created above. The output of the Reduce function is a sequence of zero or more key-value pairs. These key-value pairs can be of a type different from those sent from Map tasks to Reduce tasks, but often they are the same type.\n",
        "\n",
        "We will refer to the application of the Reduce function to a single key and its associated list of values as a reducer.\n",
        "\n",
        "![](https://github.com/akaigraham/dsc-word-count-with-map-reduce-lab/blob/master/reduce.png?raw=1)\n",
        "\n",
        "- Use `RDD.reduceByKey()` to add up all the words. the new (k, v) pairs would have the word as a key and the number of occurrences as a value. \n",
        "\n",
        "Here, the lambda has two arguments (x and y) that are added."
      ]
    },
    {
      "cell_type": "code",
      "metadata": {
        "id": "U2VxHizTkj44",
        "outputId": "92ead259-ba74-4cc5-e0e9-d8f5269a5025"
      },
      "source": [
        "# Use reduceByKey with tuplesLCase to add all values under same keys - take 10\n",
        "\n",
        "\n",
        "# Code here \n"
      ],
      "execution_count": null,
      "outputs": [
        {
          "data": {
            "text/plain": [
              "[('', 20383),\n",
              " ('1604', 1),\n",
              " ('tragedy', 1),\n",
              " ('of', 670),\n",
              " ('prince', 2),\n",
              " ('denmark', 10),\n",
              " ('shakespeare', 1),\n",
              " ('dramatis', 1),\n",
              " ('claudius,', 2),\n",
              " ('king', 43)]"
            ]
          },
          "execution_count": 15,
          "metadata": {},
          "output_type": "execute_result"
        }
      ]
    },
    {
      "cell_type": "markdown",
      "metadata": {
        "id": "XfV269k1kj44"
      },
      "source": [
        "### Filter rare words\n",
        "\n",
        "Following the standard NLP approach, we can add a filtering step to remove all words which appear less than some threshold value, say, with less than 5 occurrences. \n",
        "\n",
        "This can be useful to identify common topics between documents, where very rare words can be misleading. \n",
        "For this step, we can use `RDD.filter(func)` where `func` is a lambda function that filters out any word which appears less than or equal to 5 times. You may also use a separate function to achieve this. \n",
        "\n",
        "- Remove rare words with occurences < 5 using lambda function inside a `.filter()` method "
      ]
    },
    {
      "cell_type": "code",
      "metadata": {
        "id": "hQaYzD0Ikj44",
        "outputId": "b27e0f78-0f58-49a1-fd2a-bc14e823c999"
      },
      "source": [
        "# Remove all rare words with frequency less than 5 - take 10 \n",
        "\n",
        "\n",
        "# Code here \n"
      ],
      "execution_count": null,
      "outputs": [
        {
          "data": {
            "text/plain": [
              "[('', 20383),\n",
              " ('of', 670),\n",
              " ('denmark', 10),\n",
              " ('king', 43),\n",
              " ('son', 11),\n",
              " ('polonius,', 6),\n",
              " ('horatio,', 15),\n",
              " ('hamlet.', 25),\n",
              " ('courtier.', 7),\n",
              " ('rosencrantz,', 6)]"
            ]
          },
          "execution_count": 17,
          "metadata": {},
          "output_type": "execute_result"
        }
      ]
    },
    {
      "cell_type": "markdown",
      "metadata": {
        "id": "h2f54u49kj44"
      },
      "source": [
        "### List  of stop words\n",
        "\n",
        "Add a filtering step to retain only words included in a list of stop words. \n",
        "\n",
        "Stop words can be useful for recognizing the style of an author. Removing stop words can be useful in recognizing the topic of a document. For stop word removal, we use `RDD.filter(func)` again with a lambda function that uses a list of stop words to extract the key-value pairs for only the words that are present in the stop word list. Use a simple list like the one shown below: \n",
        "\n",
        "> ['', 'the','a','in','of','on','at','for','by','I','you','me'] \n",
        "\n",
        "\n",
        "- Use the stop word list above to count the occurrences of these words in the document\n",
        "- Show the stop word frequency"
      ]
    },
    {
      "cell_type": "code",
      "metadata": {
        "id": "gf9if9Mykj44",
        "outputId": "990e49b2-cb3f-4485-c805-ef3c21707f4e"
      },
      "source": [
        "# show stop word frequency in the output\n",
        "\n",
        "\n",
        "# Code here \n",
        "\n"
      ],
      "execution_count": null,
      "outputs": [
        {
          "data": {
            "text/plain": [
              "[('', 20383),\n",
              " ('of', 670),\n",
              " ('at', 87),\n",
              " ('i', 523),\n",
              " ('in', 420),\n",
              " ('the', 1083),\n",
              " ('by', 111),\n",
              " ('a', 540),\n",
              " ('you', 433),\n",
              " ('for', 231),\n",
              " ('me', 144),\n",
              " ('on', 108)]"
            ]
          },
          "execution_count": 19,
          "metadata": {},
          "output_type": "execute_result"
        }
      ]
    },
    {
      "cell_type": "markdown",
      "metadata": {
        "id": "hq2B7E5Fkj44"
      },
      "source": [
        "### List of keep words\n",
        "\n",
        "- Modify the filter operation above to keep all the words found in the text **except** the stop words. "
      ]
    },
    {
      "cell_type": "code",
      "metadata": {
        "scrolled": true,
        "id": "DA9GOS9Lkj45",
        "outputId": "62dcfa35-40e5-43f7-c175-7abb145cd77c"
      },
      "source": [
        "# Modify above filter to show top ten keep words by frequency\n",
        "\n",
        "\n",
        "# Code here \n"
      ],
      "execution_count": null,
      "outputs": [
        {
          "data": {
            "text/plain": [
              "[('and', 939),\n",
              " ('to', 727),\n",
              " ('my', 519),\n",
              " ('ham.', 358),\n",
              " ('that', 343),\n",
              " ('is', 327),\n",
              " ('it', 327),\n",
              " ('his', 302),\n",
              " ('not', 274),\n",
              " ('with', 267)]"
            ]
          },
          "execution_count": 21,
          "metadata": {},
          "output_type": "execute_result"
        }
      ]
    },
    {
      "cell_type": "markdown",
      "metadata": {
        "id": "arIJp7HNkj45"
      },
      "source": [
        "### Putting it all together \n",
        "\n",
        "Combine the above code as a function and pass three works of Shakespeare (`'romeandjuliet.txt'`, `'hamlet.txt'`, `'othello.txt'`). Observe the frequency of stop words. Repeat the same exercise for three works of Jane Austin (`'senseandsensibility.txt'`, `'prideandprejudice.txt'` and `'emma.txt'`). \n",
        "\n",
        "> Can you recognize the writing styles of these authors based on their use of stop words?\n",
        "> What can you do to improve the style recognition ability?"
      ]
    },
    {
      "cell_type": "code",
      "metadata": {
        "id": "zWFHN6pwkj45"
      },
      "source": [
        "# Create a function for word count that takes in a file name and stop wordlist to perform above tasks\n",
        "def wordCount(filename, stopWordlist):\n",
        "    pass"
      ],
      "execution_count": null,
      "outputs": []
    },
    {
      "cell_type": "markdown",
      "metadata": {
        "id": "hPbwObKkkj45"
      },
      "source": [
        "## Level Up (Optional)\n",
        "\n",
        "* Create histograms of the top 50 words from each author\n",
        "\n",
        "\n",
        "## Summary \n",
        "\n",
        "In this simple exercise, we saw MapReduce in action for solving a basic NLP task, i.e. counting the frequency of stop words and keep words of a text corpus. This exercise can be seen as a first step towards text analytics on big data platforms. After this lab, we will get into more advanced use cases of PySpark, specifically for machine learning applications. "
      ]
    }
  ]
}